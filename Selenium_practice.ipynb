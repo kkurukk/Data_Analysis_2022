{
 "cells": [
  {
   "cell_type": "code",
   "execution_count": null,
   "id": "0a86f99d",
   "metadata": {},
   "outputs": [],
   "source": [
    "import requests\n",
    "import lxml.html\n",
    "import sqlite3\n",
    "from pandas.io import sql\n",
    "import os\n",
    "import re\n",
    "import string\n",
    "import pandas as pd\n",
    "from tabulate import tabulate\n",
    "from selenium.webdriver import Chrome\n",
    "import time\n",
    "import warnings\n",
    "warnings.simplefilter(action='ignore', category=FutureWarning)\n",
    "from selenium import webdriver\n",
    "from selenium.webdriver import ActionChains\n",
    "import csv"
   ]
  },
  {
   "cell_type": "code",
   "execution_count": null,
   "id": "edfd1fbe",
   "metadata": {},
   "outputs": [],
   "source": [
    "def get_urls():\n",
    "    \n",
    "    page = 1\n",
    "    max_page = 0\n",
    "    \n",
    "    response = requests.get('https://world.moleg.go.kr/web/dta/lgslTrendListPage.do?A=A&searchType=all&searchPageRowCnt=50&pageIndex=1')\n",
    "    root = lxml.html.fromstring(response.content)\n",
    "        \n",
    "    # 페이지 번호 중에서 max 페이지 가져오기    \n",
    "    max_page = int(root.xpath('//*[@id=\"contents\"]/div[4]/div[1]/a[13]/text()')[0])\n",
    "    \n",
    "    while(True):\n",
    "        url_list = []\n",
    "\n",
    "        response = requests.get('https://world.moleg.go.kr/web/dta/lgslTrendListPage.do?A=A&searchType=all&searchPageRowCnt=50&pageIndex={}'\\\n",
    "                               .format(page))\n",
    "        root = lxml.html.fromstring(response.content)\n",
    "        for tr in root.xpath('//*[@id=\"contents\"]/table/tbody/tr') :\n",
    "            a = tr.xpath('td[3]/a')[0]\n",
    "            url = 'https://world.moleg.go.kr' + a.get('href')\n",
    "            url_list.append(url)\n",
    "\n",
    "        if (page >= max_page):\n",
    "            break\n",
    "        else:\n",
    "            page = page + 1\n",
    "\n",
    "        time.sleep(1)\n",
    "        \n",
    "    return url_list"
   ]
  },
  {
   "cell_type": "code",
   "execution_count": null,
   "id": "a031105b",
   "metadata": {},
   "outputs": [],
   "source": [
    "def remove_punc(data):\n",
    "\n",
    "    punc = '[!\"#$%&\\'()*+,-./:;<=>?[\\]^_`{|}~“”·「」△《》•‘’○※▷【】]'\n",
    "    new_string = re.sub(punc, '', data) # 특수문자 제거\n",
    "    new_string2 = re.sub('\\n', ' ', new_string) # newline 제거\n",
    "    new_string3 = re.sub('  ', ' ', new_string2) # double space 제거\n",
    "    new_string4 = re.sub('   ', ' ', new_string3) # double space 제거\n",
    "    return new_string4"
   ]
  },
  {
   "cell_type": "code",
   "execution_count": null,
   "id": "0e4a96d1",
   "metadata": {},
   "outputs": [],
   "source": [
    "def db_save(ARTICLE_LIST):\n",
    "    with sqlite3.connect(os.path.join('.','sqliteDB')) as con: # sqlite DB 파일이 존재하지 않는 경우 파일생성\n",
    "        try:\n",
    "            ARTICLE_LIST.to_sql(name = 'ARTICLE_LIST', con = con, index = False, if_exists='append') \n",
    "            #if_exists : {'fail', 'replace', 'append'} default : fail\n",
    "        except Exception as e:\n",
    "            print(str(e))\n",
    "        print(len(ARTICLE_LIST), '건 저장완료..')"
   ]
  },
  {
   "cell_type": "code",
   "execution_count": null,
   "id": "caee9d56",
   "metadata": {},
   "outputs": [],
   "source": [
    "def get_info(url):\n",
    "    details = []\n",
    "    \n",
    "    browser.get(url)\n",
    "    title = browser.find_element('xpath','//*[@id=\"contents\"]/div[3]').text\n",
    "    country = browser.find_element('xpath','//*[@id=\"contents\"]/div[2]/div[2]/strong').text\n",
    "    upload_date = browser.find_element('xpath','//*[@id=\"contents\"]/div[4]/ul[1]/li[1]/span').text\n",
    "    views = browser.find_element('xpath','//*[@id=\"contents\"]/div[4]/ul[1]/li[2]/span').text\n",
    "    trs = browser.find_element('xpath','//*[@id=\"lgslTrend_CTS\"]').text\n",
    "    \n",
    "    browser.implicitly_wait(4)\n",
    "    \n",
    "    words = remove_punc(trs)\n",
    "    details.append(title)\n",
    "    details.append(country)\n",
    "    details.append(upload_date)\n",
    "    details.append(views)\n",
    "    details.append(words)\n",
    "    \n",
    "    return details"
   ]
  },
  {
   "cell_type": "code",
   "execution_count": null,
   "id": "981d9e6f",
   "metadata": {},
   "outputs": [],
   "source": [
    "def db_save_as_csv(data):\n",
    "    data.to_csv(\"법제동향_page1.csv\", index=False, encoding='utf-8')"
   ]
  },
  {
   "cell_type": "code",
   "execution_count": null,
   "id": "2c9914f9",
   "metadata": {
    "scrolled": true
   },
   "outputs": [],
   "source": [
    "from selenium.webdriver.chrome.options import Options\n",
    "\n",
    "options = Options()\n",
    "\n",
    "#바이너리 위치 설정\n",
    "#options.binary_location= 'C:\\Program Files\\Google\\Chrome\\Application\\chrome.exe'\n",
    "\n",
    "urls = get_urls()\n",
    "df_list = []\n",
    "\n",
    "browser = webdriver.Chrome('C:/Users/user/.wdm/drivers/chromedriver/win32/105.0.5195/chromedriver.exe', chrome_options = options) #드라이버경로 지정\n",
    "\n",
    "for url in urls:\n",
    "    \n",
    "    details = get_info(url)\n",
    "    \n",
    "    df = pd.DataFrame([{\n",
    "        \"제목\": details[0],\n",
    "        \"국가\": details[1],\n",
    "        \"등록일자\": details[2],\n",
    "        \"조회수\": details[3],\n",
    "        \"본문내용\": details[4]\n",
    "    }])\n",
    "    \n",
    "    df_list.append(df)\n",
    "    \n",
    "    browser.implicitly_wait(4)\n",
    "\n",
    "ARTICLE_LIST = pd.concat(df_list)\n",
    "db_save(ARTICLE_LIST)\n",
    "db_save_as_csv(ARTICLE_LIST)\n",
    "\n",
    "browser.close()\n",
    "browser.quit()"
   ]
  },
  {
   "cell_type": "code",
   "execution_count": null,
   "id": "05453a09",
   "metadata": {},
   "outputs": [],
   "source": [
    "with open(r\"법제동향_page1.csv\", 'r', encoding='utf-8') as f:\n",
    "    \n",
    "    document = pd.read_csv(f)\n",
    "    \n",
    "    display(document)"
   ]
  }
 ],
 "metadata": {
  "kernelspec": {
   "display_name": "Python 3 (ipykernel)",
   "language": "python",
   "name": "python3"
  },
  "language_info": {
   "codemirror_mode": {
    "name": "ipython",
    "version": 3
   },
   "file_extension": ".py",
   "mimetype": "text/x-python",
   "name": "python",
   "nbconvert_exporter": "python",
   "pygments_lexer": "ipython3",
   "version": "3.9.12"
  }
 },
 "nbformat": 4,
 "nbformat_minor": 5
}
