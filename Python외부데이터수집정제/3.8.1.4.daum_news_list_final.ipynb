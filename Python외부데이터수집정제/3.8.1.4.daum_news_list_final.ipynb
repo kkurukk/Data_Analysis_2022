{
 "cells": [
  {
   "cell_type": "code",
   "execution_count": 1,
   "metadata": {},
   "outputs": [],
   "source": [
    "import requests\n",
    "import lxml.html\n",
    "import pandas as pd\n",
    "import sqlite3\n",
    "from pandas.io import sql\n",
    "import os\n",
    "import time"
   ]
  },
  {
   "cell_type": "code",
   "execution_count": 2,
   "metadata": {},
   "outputs": [],
   "source": [
    "def db_save(NEWS_LIST):\n",
    "    with sqlite3.connect(os.path.join('.','sqliteDB')) as con:\n",
    "        try:\n",
    "            NEWS_LIST.to_sql(name = 'NEWS_LIST', con = con, index = False, if_exists='append') \n",
    "            #if_exists : {'fail', 'replace', 'append'} default : fail\n",
    "        except Exception as e:\n",
    "            print(str(e))\n",
    "        print(len(NEWS_LIST), '건 저장완료..')"
   ]
  },
  {
   "cell_type": "code",
   "execution_count": 3,
   "metadata": {},
   "outputs": [],
   "source": [
    "def db_delete():\n",
    "    with sqlite3.connect(os.path.join('.','sqliteDB')) as con: \n",
    "        try:\n",
    "            cur = con.cursor()\n",
    "            sql = 'DELETE FROM NEWS_LIST'\n",
    "            cur.execute(sql)\n",
    "        except Exception as e:\n",
    "            print(str(e)) "
   ]
  },
  {
   "cell_type": "code",
   "execution_count": 4,
   "metadata": {},
   "outputs": [],
   "source": [
    "def db_select():\n",
    "    with sqlite3.connect(os.path.join('.','sqliteDB')) as con: \n",
    "        try:\n",
    "            query = 'SELECT * FROM NEWS_LIST'\n",
    "            NEWS_LIST = pd.read_sql(query, con = con)\n",
    "        except Exception as e:\n",
    "            print(str(e)) \n",
    "        return NEWS_LIST   \n"
   ]
  },
  {
   "cell_type": "code",
   "execution_count": 5,
   "metadata": {},
   "outputs": [],
   "source": [
    "import re\n",
    "import string\n",
    "\n",
    "def get_detail(url):\n",
    "    body = []\n",
    "    punc = '[!\"#$%&\\'()*+,-./:;<=>?[\\]^_`{|}~“”·]'\n",
    "    response = requests.get(url)\n",
    "    root = lxml.html.fromstring(response.content)\n",
    "    for p in root.xpath('//*[@id=\"harmonyContainer\"]/section/p'):\n",
    "        if p.text: # 체크\n",
    "            body.append(re.sub(punc, '', p.text)) # 특수문자 제거\n",
    "    full_body = ' '.join(body)\n",
    "    \n",
    "    return full_body"
   ]
  },
  {
   "cell_type": "code",
   "execution_count": 6,
   "metadata": {},
   "outputs": [],
   "source": [
    "page = 442\n",
    "max_page = 0\n",
    "REG_DATE = '20220718'"
   ]
  },
  {
   "cell_type": "code",
   "execution_count": 7,
   "metadata": {},
   "outputs": [
    {
     "name": "stdout",
     "output_type": "stream",
     "text": [
      "15 건 저장완료..\n",
      "15 건 저장완료..\n",
      "11 건 저장완료..\n"
     ]
    }
   ],
   "source": [
    "while(True):\n",
    "    df_list = []\n",
    "    response = requests.get('http://news.daum.net/breakingnews/society?page={}&regDate={}'\n",
    "                            .format(page, REG_DATE))\n",
    "    root = lxml.html.fromstring(response.content)\n",
    "    for li in root.xpath('//*[@id=\"mArticle\"]/div[3]/ul/li'):\n",
    "        a = li.xpath('div/strong/a')[0]\n",
    "        url = a.get('href')\n",
    "        article = get_detail(url)\n",
    "        df = pd.DataFrame({'URL' : [url],'TITLE':[a.text],'ARTICLE' : [article]})\n",
    "        df_list.append(df)   \n",
    "        \n",
    "    if df_list:   \n",
    "        df_10 = pd.concat(df_list)\n",
    "        db_save(df_10)\n",
    "\n",
    "    # 페이지 번호 중에서 max 페이지 가져오기    \n",
    "    for a in root.xpath('//*[@id=\"mArticle\"]/div[3]/div/span/a'):\n",
    "        try:\n",
    "            num = int(a.text)\n",
    "            if max_page < num:\n",
    "                max_page = num       \n",
    "        except:\n",
    "            pass\n",
    "\n",
    "    # 마지막 페이지 여부 확인     \n",
    "    span = root.xpath('//*[@id=\"mArticle\"]/div[3]/div/span/a[@class=\"btn_page btn_next\"]')\n",
    "\n",
    "    if (len(span) <= 0) & (page >= max_page):\n",
    "        break\n",
    "    else:\n",
    "        page = page + 1\n",
    "        \n",
    "    time.sleep(1)      "
   ]
  },
  {
   "cell_type": "code",
   "execution_count": 8,
   "metadata": {},
   "outputs": [],
   "source": [
    "# db_delete()"
   ]
  },
  {
   "cell_type": "code",
   "execution_count": 9,
   "metadata": {},
   "outputs": [
    {
     "name": "stdout",
     "output_type": "stream",
     "text": [
      "                                        URL  \\\n",
      "0    https://v.daum.net/v/20200819084702255   \n",
      "1    https://v.daum.net/v/20200819084617234   \n",
      "2    https://v.daum.net/v/20200819084529215   \n",
      "3    https://v.daum.net/v/20200819084517208   \n",
      "4    https://v.daum.net/v/20200819084251134   \n",
      "..                                      ...   \n",
      "312  https://v.daum.net/v/20220718000239252   \n",
      "313  https://v.daum.net/v/20220718000226247   \n",
      "314  https://v.daum.net/v/20220718000205246   \n",
      "315  https://v.daum.net/v/20220718000145233   \n",
      "316  https://v.daum.net/v/20220718000104218   \n",
      "\n",
      "                                     TITLE  \\\n",
      "0             에기평, 코로나19 확산 방지 투명칸막이 무상 제공   \n",
      "1         중국 선전시, 전지역 커버하는 '5G SA' 네트워크 구축   \n",
      "2        상반기 전세계 모바일게임 지출 42조 돌파..반기 기준 최고   \n",
      "3    5분 충전에 600km 주행 가능..전기車 리튬금속전지 개발 본격화   \n",
      "4            배달의민족, 비 피해 소상공인에 10만원 포인트 지원   \n",
      "..                                     ...   \n",
      "312  BA.5 BA.2.75 함께 등장, 정점 2번 쌍봉낙타형 유행 우려   \n",
      "313           [Hot Poll] '예대금리차 공시' 핫 폴 결과   \n",
      "314        오늘부터 50대·18세 이상 기저질환자 등 4차접종 시작   \n",
      "315                 [우리말 바루기] '메타버스'가 뭐예요?   \n",
      "316        경남TP, 도내 항공기업 '판보로 에어쇼' 수주활동 지원   \n",
      "\n",
      "                                               ARTICLE  \n",
      "0    한국에너지기술평가원은 생활방역 정착과 지역경제 활성화에 기여하기 위해 999 비말을...  \n",
      "1    지디넷코리아유효정 중국 전문기자중국 정부 주도로 다음달에서 전국 단위에서 5G 단독...  \n",
      "2    아시아경제 이진규 기자 신종 코로나바이러스감염증코로나19 확산 여파로 실내 활동이 ...  \n",
      "3    헤럴드경제구본혁 기자 약 5분 충전에 600km를 주행할 수 있는 전기차 배터리를 ...  \n",
      "4    지디넷코리아백봉삼 기자배달의민족이하 배민을 운영하는 우아한형제들은 집중호우 피해로 ...  \n",
      "..                                                 ...  \n",
      "312   전파력과 면역 회피력이 뛰어난 오미크론 하위 변이 BA5가 빠르게 확산하면서 주말...  \n",
      "313                                                     \n",
      "314   오늘18일부터 50세 이상 연령층과 18세 이상 기저질환자 등을 대상으로 코로나1...  \n",
      "315  얼마 전 한국의 한 걸그룹이 유엔 지속가능발전 고위급 포럼에서 연설한 일이 있다 이...  \n",
      "316  판보로 에어쇼는 파리 에어쇼 싱가포르 에어쇼와 함께 세계 3대 에어쇼로 꼽히는 행사...  \n",
      "\n",
      "[317 rows x 3 columns]\n"
     ]
    }
   ],
   "source": [
    "print(db_select())"
   ]
  },
  {
   "cell_type": "code",
   "execution_count": null,
   "metadata": {},
   "outputs": [],
   "source": []
  }
 ],
 "metadata": {
  "kernelspec": {
   "display_name": "Python 3 (ipykernel)",
   "language": "python",
   "name": "python3"
  },
  "language_info": {
   "codemirror_mode": {
    "name": "ipython",
    "version": 3
   },
   "file_extension": ".py",
   "mimetype": "text/x-python",
   "name": "python",
   "nbconvert_exporter": "python",
   "pygments_lexer": "ipython3",
   "version": "3.9.12"
  }
 },
 "nbformat": 4,
 "nbformat_minor": 4
}
