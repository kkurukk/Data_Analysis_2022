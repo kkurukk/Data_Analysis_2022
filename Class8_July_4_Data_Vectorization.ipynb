{
 "cells": [
  {
   "cell_type": "markdown",
   "id": "6b9c7758",
   "metadata": {},
   "source": [
    "# 범주형 데이터의 실수화"
   ]
  },
  {
   "cell_type": "markdown",
   "id": "a1fefe2a",
   "metadata": {},
   "source": [
    "##### 라벨 인코딩 : 선형/Regression 모델에는 보통 적용 X, 변환된 코드 값들이 각각 가중치를 가져서\n",
    "#####               서열척도처럼 인식될 수 있기 때문(SVM, LIDGE, LASSO etc.), 트리 계열 모델에는 상관 없다.\n",
    "#####               일반적으로 get_dummies를 많이 쓰다고 생각하면 됨.\n",
    "##### \n",
    "##### TF-IDF, Word to vec 등 문서 단어 행렬변환방식의 전처리는 추천시스템, 텍스트 분석 등에서 활용됨"
   ]
  },
  {
   "cell_type": "code",
   "execution_count": 1,
   "id": "4a949092",
   "metadata": {},
   "outputs": [],
   "source": [
    "# import libraries and create dataset\n",
    "import pandas as pd           # importing pandas package\n",
    "from sklearn.preprocessing import LabelEncoder      # 범주형 데이터의 실수화 함수\n",
    "from sklearn.preprocessing import OneHotEncoder     # 더미변수 생성, 가변환 함수 임포트\n",
    "\n",
    "\n",
    "# 데이터 set 생성 및 확인\n",
    "x_train = pd.DataFrame([\"남성\", \"여성\", \"남성\", \"여성\", \"남성\", \"여성\"], columns=[\"성별\"])"
   ]
  },
  {
   "cell_type": "code",
   "execution_count": 2,
   "id": "be942c79",
   "metadata": {},
   "outputs": [
    {
     "data": {
      "text/html": [
       "<div>\n",
       "<style scoped>\n",
       "    .dataframe tbody tr th:only-of-type {\n",
       "        vertical-align: middle;\n",
       "    }\n",
       "\n",
       "    .dataframe tbody tr th {\n",
       "        vertical-align: top;\n",
       "    }\n",
       "\n",
       "    .dataframe thead th {\n",
       "        text-align: right;\n",
       "    }\n",
       "</style>\n",
       "<table border=\"1\" class=\"dataframe\">\n",
       "  <thead>\n",
       "    <tr style=\"text-align: right;\">\n",
       "      <th></th>\n",
       "      <th>성별</th>\n",
       "    </tr>\n",
       "  </thead>\n",
       "  <tbody>\n",
       "    <tr>\n",
       "      <th>0</th>\n",
       "      <td>남성</td>\n",
       "    </tr>\n",
       "    <tr>\n",
       "      <th>1</th>\n",
       "      <td>여성</td>\n",
       "    </tr>\n",
       "    <tr>\n",
       "      <th>2</th>\n",
       "      <td>남성</td>\n",
       "    </tr>\n",
       "  </tbody>\n",
       "</table>\n",
       "</div>"
      ],
      "text/plain": [
       "   성별\n",
       "0  남성\n",
       "1  여성\n",
       "2  남성"
      ]
     },
     "execution_count": 2,
     "metadata": {},
     "output_type": "execute_result"
    }
   ],
   "source": [
    "#데이터 확인\n",
    "x_train.head(3)"
   ]
  },
  {
   "cell_type": "code",
   "execution_count": 3,
   "id": "fc9d8b32",
   "metadata": {},
   "outputs": [
    {
     "name": "stdout",
     "output_type": "stream",
     "text": [
      "<class 'pandas.core.frame.DataFrame'>\n",
      "RangeIndex: 6 entries, 0 to 5\n",
      "Data columns (total 1 columns):\n",
      " #   Column  Non-Null Count  Dtype \n",
      "---  ------  --------------  ----- \n",
      " 0   성별      6 non-null      object\n",
      "dtypes: object(1)\n",
      "memory usage: 176.0+ bytes\n"
     ]
    }
   ],
   "source": [
    "# 데이터 프레임의 정보 확인 : object 타입 '성별' 변수\n",
    "x_train.info()"
   ]
  },
  {
   "cell_type": "code",
   "execution_count": 4,
   "id": "fa745cfc",
   "metadata": {},
   "outputs": [
    {
     "data": {
      "text/plain": [
       "남성    3\n",
       "여성    3\n",
       "Name: 성별, dtype: int64"
      ]
     },
     "execution_count": 4,
     "metadata": {},
     "output_type": "execute_result"
    }
   ],
   "source": [
    "# 범주형 데이터의 갯수 확인\n",
    "x_train['성별'].value_counts()"
   ]
  },
  {
   "cell_type": "markdown",
   "id": "bcea08f4",
   "metadata": {},
   "source": [
    "#### 레이블 인코딩 : 문자를 0부터 시작하는 정수형 숫자로 변환"
   ]
  },
  {
   "cell_type": "code",
   "execution_count": 5,
   "id": "52ee9eb0",
   "metadata": {},
   "outputs": [],
   "source": [
    "# 레이블 인코더 생성\n",
    "encoing = LabelEncoder()\n",
    "\n",
    "# x_train 데이터를 이용하여 피팅하고 레이블 숫자로 변환\n",
    "encoing.fit(x_train[\"성별\"])\n",
    "x_train[\"성별_인코딩\"] = encoing.transform(x_train[\"성별\"])"
   ]
  },
  {
   "cell_type": "code",
   "execution_count": 6,
   "id": "51e58ab1",
   "metadata": {},
   "outputs": [
    {
     "name": "stdout",
     "output_type": "stream",
     "text": [
      "   성별  성별_인코딩\n",
      "0  남성       0\n",
      "1  여성       1\n",
      "2  남성       0\n",
      "3  여성       1\n",
      "4  남성       0\n",
      "5  여성       1\n",
      "['남성', '여성']\n",
      "['여성', '남성']\n"
     ]
    }
   ],
   "source": [
    "#인코딩 결과 확인\n",
    "print(x_train)\n",
    "\n",
    "# 클래스 확인\n",
    "print(list(encoing.classes_))\n",
    "# 인코딩 값으로 문자값 확인\n",
    "print(list(encoing.inverse_transform([1,0])))"
   ]
  },
  {
   "cell_type": "markdown",
   "id": "e07dd015",
   "metadata": {},
   "source": [
    "# One-Hot Encoding"
   ]
  },
  {
   "cell_type": "markdown",
   "id": "75ded338",
   "metadata": {},
   "source": [
    "#### 더미변수 생성, 가변환"
   ]
  },
  {
   "cell_type": "code",
   "execution_count": 7,
   "id": "e6e265d5",
   "metadata": {},
   "outputs": [
    {
     "data": {
      "text/html": [
       "<div>\n",
       "<style scoped>\n",
       "    .dataframe tbody tr th:only-of-type {\n",
       "        vertical-align: middle;\n",
       "    }\n",
       "\n",
       "    .dataframe tbody tr th {\n",
       "        vertical-align: top;\n",
       "    }\n",
       "\n",
       "    .dataframe thead th {\n",
       "        text-align: right;\n",
       "    }\n",
       "</style>\n",
       "<table border=\"1\" class=\"dataframe\">\n",
       "  <thead>\n",
       "    <tr style=\"text-align: right;\">\n",
       "      <th></th>\n",
       "      <th>성별</th>\n",
       "      <th>성별_인코딩</th>\n",
       "    </tr>\n",
       "  </thead>\n",
       "  <tbody>\n",
       "    <tr>\n",
       "      <th>0</th>\n",
       "      <td>남성</td>\n",
       "      <td>0</td>\n",
       "    </tr>\n",
       "    <tr>\n",
       "      <th>1</th>\n",
       "      <td>여성</td>\n",
       "      <td>1</td>\n",
       "    </tr>\n",
       "  </tbody>\n",
       "</table>\n",
       "</div>"
      ],
      "text/plain": [
       "   성별  성별_인코딩\n",
       "0  남성       0\n",
       "1  여성       1"
      ]
     },
     "execution_count": 7,
     "metadata": {},
     "output_type": "execute_result"
    }
   ],
   "source": [
    "# 데이터 확인(실수화한 데이터 사용)\n",
    "x_train.head(2)"
   ]
  },
  {
   "cell_type": "code",
   "execution_count": 8,
   "id": "be49dae7",
   "metadata": {},
   "outputs": [
    {
     "data": {
      "text/plain": [
       "array([[1., 0.],\n",
       "       [0., 1.],\n",
       "       [1., 0.],\n",
       "       [0., 1.],\n",
       "       [1., 0.],\n",
       "       [0., 1.]])"
      ]
     },
     "execution_count": 8,
     "metadata": {},
     "output_type": "execute_result"
    }
   ],
   "source": [
    "# 원핫인코더 생성\n",
    "# Sparse를 True로 할 경우 \"(행, 열) 1\"의 좌표리스트의 형식, False로 할 경우 넘파이 배열로 반환\n",
    "one_encoding = OneHotEncoder(sparse=False)\n",
    "\n",
    "# x_train 데이터를 이용하여 피팅\n",
    "one_encoding.fit(x_train[[\"성별\"]])\n",
    "\n",
    "# 가변환값 변환\n",
    "one_encoding.transform(x_train[[\"성별\"]])\n",
    "\n",
    "# one_encoding.fit_transform(X_train[[\"성별\"]])"
   ]
  },
  {
   "cell_type": "code",
   "execution_count": 9,
   "id": "42463874",
   "metadata": {},
   "outputs": [
    {
     "name": "stdout",
     "output_type": "stream",
     "text": [
      "['성별_남성' '성별_여성']\n"
     ]
    }
   ],
   "source": [
    "# 가변환된 피쳐 확인\n",
    "print(one_encoding.get_feature_names_out())"
   ]
  },
  {
   "cell_type": "markdown",
   "id": "55b26c2c",
   "metadata": {},
   "source": [
    "### 인코딩 결과 확인"
   ]
  },
  {
   "cell_type": "code",
   "execution_count": 10,
   "id": "d3721dff",
   "metadata": {},
   "outputs": [
    {
     "data": {
      "text/html": [
       "<div>\n",
       "<style scoped>\n",
       "    .dataframe tbody tr th:only-of-type {\n",
       "        vertical-align: middle;\n",
       "    }\n",
       "\n",
       "    .dataframe tbody tr th {\n",
       "        vertical-align: top;\n",
       "    }\n",
       "\n",
       "    .dataframe thead th {\n",
       "        text-align: right;\n",
       "    }\n",
       "</style>\n",
       "<table border=\"1\" class=\"dataframe\">\n",
       "  <thead>\n",
       "    <tr style=\"text-align: right;\">\n",
       "      <th></th>\n",
       "      <th>성별</th>\n",
       "      <th>성별_인코딩</th>\n",
       "      <th>성별0</th>\n",
       "      <th>성별1</th>\n",
       "    </tr>\n",
       "  </thead>\n",
       "  <tbody>\n",
       "    <tr>\n",
       "      <th>0</th>\n",
       "      <td>남성</td>\n",
       "      <td>0</td>\n",
       "      <td>1.0</td>\n",
       "      <td>0.0</td>\n",
       "    </tr>\n",
       "    <tr>\n",
       "      <th>1</th>\n",
       "      <td>여성</td>\n",
       "      <td>1</td>\n",
       "      <td>0.0</td>\n",
       "      <td>1.0</td>\n",
       "    </tr>\n",
       "    <tr>\n",
       "      <th>2</th>\n",
       "      <td>남성</td>\n",
       "      <td>0</td>\n",
       "      <td>1.0</td>\n",
       "      <td>0.0</td>\n",
       "    </tr>\n",
       "  </tbody>\n",
       "</table>\n",
       "</div>"
      ],
      "text/plain": [
       "   성별  성별_인코딩  성별0  성별1\n",
       "0  남성       0  1.0  0.0\n",
       "1  여성       1  0.0  1.0\n",
       "2  남성       0  1.0  0.0"
      ]
     },
     "execution_count": 10,
     "metadata": {},
     "output_type": "execute_result"
    }
   ],
   "source": [
    "# 가변환된 값을 x_train_one 데이터 프레임으로 저장\n",
    "x_train_one = pd.DataFrame(one_encoding.transform(x_train[['성별']]),\n",
    "                           columns=['성별0', '성별1'])\n",
    "\n",
    "# x_train 데이터와 x_train_one의 가변환된 속성 합침\n",
    "x_train = pd.concat([x_train, x_train_one], axis=1)\n",
    "\n",
    "# 결과 확인\n",
    "x_train.head(3)"
   ]
  },
  {
   "cell_type": "markdown",
   "id": "c47fce1c",
   "metadata": {},
   "source": [
    "# 텍스트 데이터 실수화 "
   ]
  },
  {
   "cell_type": "markdown",
   "id": "c0d62546",
   "metadata": {},
   "source": [
    "### 단어의 빈도수를 count하여 단어를 수치화하는 방법"
   ]
  },
  {
   "cell_type": "code",
   "execution_count": 11,
   "id": "f4c54132",
   "metadata": {},
   "outputs": [
    {
     "name": "stdout",
     "output_type": "stream",
     "text": [
      "['청년 인재 개발 양성 과정', '인공지는 청년 양성', '미래 인공지능 데이터 대한민국', '데이터 원유 기술사 청년 개발']\n",
      "<class 'list'>\n"
     ]
    }
   ],
   "source": [
    "# CountVectorizer: 문서 집합에서 단어 토큰을 생성하고 각 단어의 수를 세어 Bag of Words로 인코딩하는 함수\n",
    "\n",
    "# import libraries\n",
    "from sklearn.feature_extraction.text import CountVectorizer\n",
    "\n",
    "# Create dataset\n",
    "corpus = [\n",
    "    '청년 인재 개발 양성 과정', '인공지는 청년 양성', '미래 인공지능 데이터 대한민국',\n",
    "    '데이터 원유 기술사 청년 개발'\n",
    "]\n",
    "\n",
    "print(corpus)\n",
    "print(type(corpus))"
   ]
  },
  {
   "cell_type": "code",
   "execution_count": 12,
   "id": "598d3fc3",
   "metadata": {},
   "outputs": [
    {
     "data": {
      "text/plain": [
       "{'청년': 11,\n",
       " '인재': 10,\n",
       " '개발': 0,\n",
       " '양성': 6,\n",
       " '과정': 1,\n",
       " '인공지는': 8,\n",
       " '미래': 5,\n",
       " '인공지능': 9,\n",
       " '데이터': 4,\n",
       " '대한민국': 3,\n",
       " '원유': 7,\n",
       " '기술사': 2}"
      ]
     },
     "execution_count": 12,
     "metadata": {},
     "output_type": "execute_result"
    }
   ],
   "source": [
    "# 텍스트 실수화 : 단어의 빈도수 count\n",
    "\n",
    "# 카운트 백터라이저 생성\n",
    "count_vect = CountVectorizer()\n",
    "\n",
    "# 단어 카운트\n",
    "count_vect.fit(corpus)\n",
    "\n",
    "# 단어 확인\n",
    "count_vect.vocabulary_"
   ]
  },
  {
   "cell_type": "code",
   "execution_count": 13,
   "id": "31ad092f",
   "metadata": {},
   "outputs": [
    {
     "data": {
      "text/plain": [
       "array([[1, 1, 0, 0, 0, 0, 1, 0, 0, 0, 1, 1],\n",
       "       [0, 0, 0, 0, 0, 0, 1, 0, 1, 0, 0, 1],\n",
       "       [0, 0, 0, 1, 1, 1, 0, 0, 0, 1, 0, 0],\n",
       "       [1, 0, 1, 0, 1, 0, 0, 1, 0, 0, 0, 1]], dtype=int64)"
      ]
     },
     "execution_count": 13,
     "metadata": {},
     "output_type": "execute_result"
    }
   ],
   "source": [
    "# 단어 백터화한 값을 array로 변환하여 확인\n",
    "count_vect.transform(corpus).toarray()"
   ]
  },
  {
   "cell_type": "code",
   "execution_count": 14,
   "id": "968ad848",
   "metadata": {},
   "outputs": [
    {
     "data": {
      "text/plain": [
       "<4x12 sparse matrix of type '<class 'numpy.int64'>'\n",
       "\twith 17 stored elements in Compressed Sparse Row format>"
      ]
     },
     "execution_count": 14,
     "metadata": {},
     "output_type": "execute_result"
    }
   ],
   "source": [
    "# 단어 백터화\n",
    "features = count_vect.transform(corpus)\n",
    "features"
   ]
  },
  {
   "cell_type": "code",
   "execution_count": 15,
   "id": "50229015",
   "metadata": {},
   "outputs": [
    {
     "data": {
      "text/plain": [
       "array(['개발', '과정', '기술사', '대한민국', '데이터', '미래', '양성', '원유', '인공지는', '인공지능',\n",
       "       '인재', '청년'], dtype=object)"
      ]
     },
     "execution_count": 15,
     "metadata": {},
     "output_type": "execute_result"
    }
   ],
   "source": [
    "# 문서단어행렬로 변환\n",
    "\n",
    "# 속성 이름만 변환\n",
    "vocab = count_vect.get_feature_names_out()\n",
    "vocab"
   ]
  },
  {
   "cell_type": "code",
   "execution_count": 16,
   "id": "cb5522b8",
   "metadata": {},
   "outputs": [
    {
     "data": {
      "text/html": [
       "<div>\n",
       "<style scoped>\n",
       "    .dataframe tbody tr th:only-of-type {\n",
       "        vertical-align: middle;\n",
       "    }\n",
       "\n",
       "    .dataframe tbody tr th {\n",
       "        vertical-align: top;\n",
       "    }\n",
       "\n",
       "    .dataframe thead th {\n",
       "        text-align: right;\n",
       "    }\n",
       "</style>\n",
       "<table border=\"1\" class=\"dataframe\">\n",
       "  <thead>\n",
       "    <tr style=\"text-align: right;\">\n",
       "      <th></th>\n",
       "      <th>개발</th>\n",
       "      <th>과정</th>\n",
       "      <th>기술사</th>\n",
       "      <th>대한민국</th>\n",
       "      <th>데이터</th>\n",
       "      <th>미래</th>\n",
       "      <th>양성</th>\n",
       "      <th>원유</th>\n",
       "      <th>인공지는</th>\n",
       "      <th>인공지능</th>\n",
       "      <th>인재</th>\n",
       "      <th>청년</th>\n",
       "    </tr>\n",
       "  </thead>\n",
       "  <tbody>\n",
       "    <tr>\n",
       "      <th>0</th>\n",
       "      <td>1</td>\n",
       "      <td>1</td>\n",
       "      <td>0</td>\n",
       "      <td>0</td>\n",
       "      <td>0</td>\n",
       "      <td>0</td>\n",
       "      <td>1</td>\n",
       "      <td>0</td>\n",
       "      <td>0</td>\n",
       "      <td>0</td>\n",
       "      <td>1</td>\n",
       "      <td>1</td>\n",
       "    </tr>\n",
       "    <tr>\n",
       "      <th>1</th>\n",
       "      <td>0</td>\n",
       "      <td>0</td>\n",
       "      <td>0</td>\n",
       "      <td>0</td>\n",
       "      <td>0</td>\n",
       "      <td>0</td>\n",
       "      <td>1</td>\n",
       "      <td>0</td>\n",
       "      <td>1</td>\n",
       "      <td>0</td>\n",
       "      <td>0</td>\n",
       "      <td>1</td>\n",
       "    </tr>\n",
       "    <tr>\n",
       "      <th>2</th>\n",
       "      <td>0</td>\n",
       "      <td>0</td>\n",
       "      <td>0</td>\n",
       "      <td>1</td>\n",
       "      <td>1</td>\n",
       "      <td>1</td>\n",
       "      <td>0</td>\n",
       "      <td>0</td>\n",
       "      <td>0</td>\n",
       "      <td>1</td>\n",
       "      <td>0</td>\n",
       "      <td>0</td>\n",
       "    </tr>\n",
       "    <tr>\n",
       "      <th>3</th>\n",
       "      <td>1</td>\n",
       "      <td>0</td>\n",
       "      <td>1</td>\n",
       "      <td>0</td>\n",
       "      <td>1</td>\n",
       "      <td>0</td>\n",
       "      <td>0</td>\n",
       "      <td>1</td>\n",
       "      <td>0</td>\n",
       "      <td>0</td>\n",
       "      <td>0</td>\n",
       "      <td>1</td>\n",
       "    </tr>\n",
       "  </tbody>\n",
       "</table>\n",
       "</div>"
      ],
      "text/plain": [
       "   개발  과정  기술사  대한민국  데이터  미래  양성  원유  인공지는  인공지능  인재  청년\n",
       "0   1   1    0     0    0   0   1   0     0     0   1   1\n",
       "1   0   0    0     0    0   0   1   0     1     0   0   1\n",
       "2   0   0    0     1    1   1   0   0     0     1   0   0\n",
       "3   1   0    1     0    1   0   0   1     0     0   0   1"
      ]
     },
     "execution_count": 16,
     "metadata": {},
     "output_type": "execute_result"
    }
   ],
   "source": [
    "# 문서단어행렬(DTM)을 데이터 프레임으로 변환\n",
    "DTM = pd.DataFrame(features.toarray(), columns = vocab).head()\n",
    "DTM"
   ]
  },
  {
   "cell_type": "code",
   "execution_count": 17,
   "id": "bcdc4839",
   "metadata": {},
   "outputs": [
    {
     "data": {
      "text/plain": [
       "array([[0, 0, 1, 1, 0, 0, 0, 0, 0, 0, 1, 0]], dtype=int64)"
      ]
     },
     "execution_count": 17,
     "metadata": {},
     "output_type": "execute_result"
    }
   ],
   "source": [
    "# 문서단어행렬에 일치하는 단어 확인\n",
    "count_vect.transform(['기술사 대한민국 인재 만세']).toarray()"
   ]
  },
  {
   "cell_type": "markdown",
   "id": "d764d5a7",
   "metadata": {},
   "source": [
    "### 단어의 빈도수를 단어들마다 중요한 정도를 가중치로 주어 수치화하는 방법"
   ]
  },
  {
   "cell_type": "code",
   "execution_count": 18,
   "id": "f6052f88",
   "metadata": {},
   "outputs": [],
   "source": [
    "# TfidfVectorizer : TF-IDF 방식으로 단어의 가중치를 조정한 BOW로 인코딩하는 함수\n",
    "\n",
    "# import libraries\n",
    "from sklearn.feature_extraction.text import TfidfVectorizer"
   ]
  },
  {
   "cell_type": "code",
   "execution_count": 19,
   "id": "7061b3d4",
   "metadata": {},
   "outputs": [
    {
     "data": {
      "text/plain": [
       "['청년 인재 개발 양성 과정', '인공지는 청년 양성', '미래 인공지능 데이터 대한민국', '데이터 원유 기술사 청년 개발']"
      ]
     },
     "execution_count": 19,
     "metadata": {},
     "output_type": "execute_result"
    }
   ],
   "source": [
    "# create and check dataset\n",
    "# 단어의 빈도수 수치화에서 활용한 corpus 데이터셋 사용\n",
    "\n",
    "corpus"
   ]
  },
  {
   "cell_type": "code",
   "execution_count": 20,
   "id": "abcf2fe9",
   "metadata": {},
   "outputs": [
    {
     "data": {
      "text/plain": [
       "{'청년': 11,\n",
       " '인재': 10,\n",
       " '개발': 0,\n",
       " '양성': 6,\n",
       " '과정': 1,\n",
       " '인공지는': 8,\n",
       " '미래': 5,\n",
       " '인공지능': 9,\n",
       " '데이터': 4,\n",
       " '대한민국': 3,\n",
       " '원유': 7,\n",
       " '기술사': 2}"
      ]
     },
     "execution_count": 20,
     "metadata": {},
     "output_type": "execute_result"
    }
   ],
   "source": [
    "# 텍스트 실수화 : TF-IDF 방식\n",
    "\n",
    "# TF-IDF 벡터라이저 생성\n",
    "tfid = TfidfVectorizer()\n",
    "\n",
    "# 단어 카운트\n",
    "tfid.fit(corpus)\n",
    "\n",
    "# 단어사전 확인\n",
    "tfid.vocabulary_"
   ]
  },
  {
   "cell_type": "code",
   "execution_count": 21,
   "id": "2e02f029",
   "metadata": {},
   "outputs": [
    {
     "data": {
      "text/plain": [
       "array([[0.41263976, 0.52338122, 0.        , 0.        , 0.        ,\n",
       "        0.        , 0.41263976, 0.        , 0.        , 0.        ,\n",
       "        0.52338122, 0.33406745],\n",
       "       [0.        , 0.        , 0.        , 0.        , 0.        ,\n",
       "        0.        , 0.55349232, 0.        , 0.70203482, 0.        ,\n",
       "        0.        , 0.44809973],\n",
       "       [0.        , 0.        , 0.        , 0.52547275, 0.41428875,\n",
       "        0.52547275, 0.        , 0.        , 0.        , 0.52547275,\n",
       "        0.        , 0.        ],\n",
       "       [0.41263976, 0.        , 0.52338122, 0.        , 0.41263976,\n",
       "        0.        , 0.        , 0.52338122, 0.        , 0.        ,\n",
       "        0.        , 0.33406745]])"
      ]
     },
     "execution_count": 21,
     "metadata": {},
     "output_type": "execute_result"
    }
   ],
   "source": [
    "# 단어 벡터화한 값을 array로 변환하여 확인\n",
    "tfid.transform(corpus).toarray()"
   ]
  },
  {
   "cell_type": "code",
   "execution_count": 22,
   "id": "991708dc",
   "metadata": {},
   "outputs": [
    {
     "data": {
      "text/plain": [
       "<4x12 sparse matrix of type '<class 'numpy.float64'>'\n",
       "\twith 17 stored elements in Compressed Sparse Row format>"
      ]
     },
     "execution_count": 22,
     "metadata": {},
     "output_type": "execute_result"
    }
   ],
   "source": [
    "# 단어 벡터화\n",
    "features_idf = tfid.transform(corpus)\n",
    "features_idf"
   ]
  },
  {
   "cell_type": "code",
   "execution_count": 23,
   "id": "f31c3105",
   "metadata": {},
   "outputs": [
    {
     "data": {
      "text/plain": [
       "array(['개발', '과정', '기술사', '대한민국', '데이터', '미래', '양성', '원유', '인공지는', '인공지능',\n",
       "       '인재', '청년'], dtype=object)"
      ]
     },
     "execution_count": 23,
     "metadata": {},
     "output_type": "execute_result"
    }
   ],
   "source": [
    "# 문서단어행렬로 변환\n",
    "\n",
    "# 속성 이름만 반환\n",
    "vocab_idf = count_vect.get_feature_names_out()\n",
    "vocab_idf"
   ]
  },
  {
   "cell_type": "code",
   "execution_count": 24,
   "id": "613a65a4",
   "metadata": {
    "scrolled": false
   },
   "outputs": [
    {
     "data": {
      "text/html": [
       "<div>\n",
       "<style scoped>\n",
       "    .dataframe tbody tr th:only-of-type {\n",
       "        vertical-align: middle;\n",
       "    }\n",
       "\n",
       "    .dataframe tbody tr th {\n",
       "        vertical-align: top;\n",
       "    }\n",
       "\n",
       "    .dataframe thead th {\n",
       "        text-align: right;\n",
       "    }\n",
       "</style>\n",
       "<table border=\"1\" class=\"dataframe\">\n",
       "  <thead>\n",
       "    <tr style=\"text-align: right;\">\n",
       "      <th></th>\n",
       "      <th>개발</th>\n",
       "      <th>과정</th>\n",
       "      <th>기술사</th>\n",
       "      <th>대한민국</th>\n",
       "      <th>데이터</th>\n",
       "      <th>미래</th>\n",
       "      <th>양성</th>\n",
       "      <th>원유</th>\n",
       "      <th>인공지는</th>\n",
       "      <th>인공지능</th>\n",
       "      <th>인재</th>\n",
       "      <th>청년</th>\n",
       "    </tr>\n",
       "  </thead>\n",
       "  <tbody>\n",
       "    <tr>\n",
       "      <th>0</th>\n",
       "      <td>0.41264</td>\n",
       "      <td>0.523381</td>\n",
       "      <td>0.000000</td>\n",
       "      <td>0.000000</td>\n",
       "      <td>0.000000</td>\n",
       "      <td>0.000000</td>\n",
       "      <td>0.412640</td>\n",
       "      <td>0.000000</td>\n",
       "      <td>0.000000</td>\n",
       "      <td>0.000000</td>\n",
       "      <td>0.523381</td>\n",
       "      <td>0.334067</td>\n",
       "    </tr>\n",
       "    <tr>\n",
       "      <th>1</th>\n",
       "      <td>0.00000</td>\n",
       "      <td>0.000000</td>\n",
       "      <td>0.000000</td>\n",
       "      <td>0.000000</td>\n",
       "      <td>0.000000</td>\n",
       "      <td>0.000000</td>\n",
       "      <td>0.553492</td>\n",
       "      <td>0.000000</td>\n",
       "      <td>0.702035</td>\n",
       "      <td>0.000000</td>\n",
       "      <td>0.000000</td>\n",
       "      <td>0.448100</td>\n",
       "    </tr>\n",
       "    <tr>\n",
       "      <th>2</th>\n",
       "      <td>0.00000</td>\n",
       "      <td>0.000000</td>\n",
       "      <td>0.000000</td>\n",
       "      <td>0.525473</td>\n",
       "      <td>0.414289</td>\n",
       "      <td>0.525473</td>\n",
       "      <td>0.000000</td>\n",
       "      <td>0.000000</td>\n",
       "      <td>0.000000</td>\n",
       "      <td>0.525473</td>\n",
       "      <td>0.000000</td>\n",
       "      <td>0.000000</td>\n",
       "    </tr>\n",
       "    <tr>\n",
       "      <th>3</th>\n",
       "      <td>0.41264</td>\n",
       "      <td>0.000000</td>\n",
       "      <td>0.523381</td>\n",
       "      <td>0.000000</td>\n",
       "      <td>0.412640</td>\n",
       "      <td>0.000000</td>\n",
       "      <td>0.000000</td>\n",
       "      <td>0.523381</td>\n",
       "      <td>0.000000</td>\n",
       "      <td>0.000000</td>\n",
       "      <td>0.000000</td>\n",
       "      <td>0.334067</td>\n",
       "    </tr>\n",
       "  </tbody>\n",
       "</table>\n",
       "</div>"
      ],
      "text/plain": [
       "        개발        과정       기술사      대한민국       데이터        미래        양성  \\\n",
       "0  0.41264  0.523381  0.000000  0.000000  0.000000  0.000000  0.412640   \n",
       "1  0.00000  0.000000  0.000000  0.000000  0.000000  0.000000  0.553492   \n",
       "2  0.00000  0.000000  0.000000  0.525473  0.414289  0.525473  0.000000   \n",
       "3  0.41264  0.000000  0.523381  0.000000  0.412640  0.000000  0.000000   \n",
       "\n",
       "         원유      인공지는      인공지능        인재        청년  \n",
       "0  0.000000  0.000000  0.000000  0.523381  0.334067  \n",
       "1  0.000000  0.702035  0.000000  0.000000  0.448100  \n",
       "2  0.000000  0.000000  0.525473  0.000000  0.000000  \n",
       "3  0.523381  0.000000  0.000000  0.000000  0.334067  "
      ]
     },
     "execution_count": 24,
     "metadata": {},
     "output_type": "execute_result"
    }
   ],
   "source": [
    "# 문서단어행렬(DTM)을 데이터 프레임으로 변환\n",
    "DTM_idf = pd.DataFrame(features_idf.toarray(), columns = vocab_idf).head()\n",
    "DTM_idf"
   ]
  }
 ],
 "metadata": {
  "kernelspec": {
   "display_name": "Python 3 (ipykernel)",
   "language": "python",
   "name": "python3"
  },
  "language_info": {
   "codemirror_mode": {
    "name": "ipython",
    "version": 3
   },
   "file_extension": ".py",
   "mimetype": "text/x-python",
   "name": "python",
   "nbconvert_exporter": "python",
   "pygments_lexer": "ipython3",
   "version": "3.9.12"
  }
 },
 "nbformat": 4,
 "nbformat_minor": 5
}
